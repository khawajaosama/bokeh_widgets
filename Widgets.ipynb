{
 "cells": [
  {
   "cell_type": "code",
   "execution_count": 4,
   "metadata": {},
   "outputs": [],
   "source": [
    "from bokeh.plotting import show,output_file,figure\n",
    "from bokeh.layouts import widgetbox\n",
    "from bokeh.models.widgets import Slider,Tabs,Panel\n"
   ]
  },
  {
   "cell_type": "code",
   "execution_count": 10,
   "metadata": {},
   "outputs": [],
   "source": [
    "output_file(\"slider_1.html\")\n",
    "\n",
    "slider = Slider(start=0, end=10, value=2, step=.1, title=\"Stuff\")\n",
    "\n",
    "show(widgetbox(slider))\n"
   ]
  },
  {
   "cell_type": "markdown",
   "metadata": {},
   "source": [
    "## Two Tabs"
   ]
  },
  {
   "cell_type": "code",
   "execution_count": 12,
   "metadata": {},
   "outputs": [],
   "source": [
    "output_file('slider_2.html')\n",
    "\n",
    "p1=figure(plot_width=300, plot_height=300)\n",
    "p1.line([1,2,3,4,5,6],[1,2,3,4,5,6], line_width=3, color=\"navy\", alpha=0.5)\n",
    "tab1=Panel(child=p1,title='line')\n",
    "\n",
    "p2=figure(plot_width=300, plot_height=300)\n",
    "p2.circle([1,2,3,4,5,6],[1,2,3,4,5,6], size=3, color=\"navy\", alpha=0.5)\n",
    "tab2=Panel(child=p2,title='circle')\n",
    "\n",
    "tabs=Tabs(tabs=[tab1,tab2])\n",
    "show(tabs)"
   ]
  },
  {
   "cell_type": "markdown",
   "metadata": {},
   "source": [
    "## Toggle Button"
   ]
  },
  {
   "cell_type": "code",
   "execution_count": 15,
   "metadata": {},
   "outputs": [],
   "source": [
    "from bokeh.io import output_file, show\n",
    "from bokeh.layouts import widgetbox\n",
    "from bokeh.models.widgets import Toggle\n",
    "\n",
    "output_file(\"toggle.html\")\n",
    "\n",
    "toggle = Toggle(label=\"Foo\", button_type=\"success\")\n",
    "\n",
    "show(widgetbox(toggle))"
   ]
  },
  {
   "cell_type": "code",
   "execution_count": null,
   "metadata": {},
   "outputs": [],
   "source": []
  }
 ],
 "metadata": {
  "kernelspec": {
   "display_name": "Python 3",
   "language": "python",
   "name": "python3"
  },
  "language_info": {
   "codemirror_mode": {
    "name": "ipython",
    "version": 3
   },
   "file_extension": ".py",
   "mimetype": "text/x-python",
   "name": "python",
   "nbconvert_exporter": "python",
   "pygments_lexer": "ipython3",
   "version": "3.6.3"
  }
 },
 "nbformat": 4,
 "nbformat_minor": 2
}
